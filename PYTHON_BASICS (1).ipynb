{
  "nbformat": 4,
  "nbformat_minor": 0,
  "metadata": {
    "colab": {
      "provenance": []
    },
    "kernelspec": {
      "name": "python3",
      "display_name": "Python 3"
    },
    "language_info": {
      "name": "python"
    }
  },
  "cells": [
    {
      "cell_type": "markdown",
      "source": [
        "\"PYTHON\""
      ],
      "metadata": {
        "id": "ocvXg9XWsiNM"
      }
    },
    {
      "cell_type": "markdown",
      "source": [
        "# 1.   What is Python, and why is it popular?\n",
        "\n",
        "#    ->Python is a high-level programming language known for its simplicity and readability. It's popular because it's easy to learn, versatile, has a large community, extensive libraries, and cross-platform compatibility. It's widely used in web development, data analysis, AI, and more."
      ],
      "metadata": {
        "id": "8IsOYIQntKTy"
      }
    },
    {
      "cell_type": "code",
      "source": [
        "#1  Write a Python program to print \"Hello, World\n",
        "\n",
        "\n",
        "\n",
        "print(\"HELLO, WoRLD\")"
      ],
      "metadata": {
        "colab": {
          "base_uri": "https://localhost:8080/"
        },
        "id": "pOnhXHVoujlm",
        "outputId": "205d3e2a-6f7e-4001-cfe7-4381f20fbf02"
      },
      "execution_count": null,
      "outputs": [
        {
          "output_type": "stream",
          "name": "stdout",
          "text": [
            "HELLO, WoRLD\n"
          ]
        }
      ]
    },
    {
      "cell_type": "markdown",
      "source": [
        "#2.  What is an interpreter in Python?\n",
        "#    ->An interpreter in Python is a program that executes Python code line by line. It reads the source code, translates it into an intermediate form, and then executes it directly. This allows for interactive programming and quick testing of code snippets, making Python a great language for beginners and rapid development."
      ],
      "metadata": {
        "id": "G9a1We0UwFTY"
      }
    },
    {
      "cell_type": "code",
      "source": [
        "#3  Write a Python program that displays your name and age?\n",
        "\n",
        "name = (\"Aditya Choubey\")\n",
        "\n",
        "age = 18\n",
        "print(name)\n",
        "print(age)"
      ],
      "metadata": {
        "colab": {
          "base_uri": "https://localhost:8080/"
        },
        "id": "fjp5PTAUxG5D",
        "outputId": "ced0d08f-aca0-4115-f1f7-fac8b2828fc3"
      },
      "execution_count": null,
      "outputs": [
        {
          "output_type": "stream",
          "name": "stdout",
          "text": [
            "Aditya Choubey\n",
            "18\n"
          ]
        }
      ]
    },
    {
      "cell_type": "markdown",
      "source": [
        "#3. What are pre-defined keywords in Python?\n",
        "# ->Pre-defined keywords in Python are reserved words that have special meanings and cannot be used as identifiers (like variable names or function names). These keywords are part of the language's syntax and structure. Here are some examples:\n",
        "\n",
        "- `False`\n",
        "- `None`\n",
        "- `True`\n",
        "- `and`\n",
        "- `as`\n",
        "- `assert`\n",
        "- `break`\n",
        "- `class`\n",
        "- `continue`\n",
        "- `def`\n",
        "- `del`\n",
        "- `elif`\n",
        "- `else`\n",
        "- `except`\n",
        "- `finally`\n",
        "- `for`\n",
        "- `from`\n",
        "- `global`\n",
        "- `if`\n",
        "- `import`\n",
        "- `in`\n",
        "- `is`\n",
        "- `lambda`\n",
        "- `nonlocal`\n",
        "- `not`\n",
        "- `or`\n",
        "- `pass`\n",
        "- `raise`\n",
        "- `return`\n",
        "- `try`\n",
        "- `while`\n",
        "- `with`\n",
        "- `yield`\n",
        "\n"
      ],
      "metadata": {
        "id": "kvEh12qyzGcg"
      }
    },
    {
      "cell_type": "code",
      "source": [
        "#3. Write code to print all the pre-defined keywords in Python using the keyword library?\n",
        "\n",
        "import keyword\n",
        "print(keyword.kwlist)"
      ],
      "metadata": {
        "colab": {
          "base_uri": "https://localhost:8080/"
        },
        "id": "ZgTCLCBF3RiI",
        "outputId": "56c79561-1994-43e8-f5c4-85dc307bb227"
      },
      "execution_count": null,
      "outputs": [
        {
          "output_type": "stream",
          "name": "stdout",
          "text": [
            "['False', 'None', 'True', 'and', 'as', 'assert', 'async', 'await', 'break', 'class', 'continue', 'def', 'del', 'elif', 'else', 'except', 'finally', 'for', 'from', 'global', 'if', 'import', 'in', 'is', 'lambda', 'nonlocal', 'not', 'or', 'pass', 'raise', 'return', 'try', 'while', 'with', 'yield']\n"
          ]
        }
      ]
    },
    {
      "cell_type": "markdown",
      "source": [
        "#4. Can keywords be used as variable names?\n",
        "#-> No, keywords in Python cannot be used as variable names. They are reserved words with special meanings in the language's syntax."
      ],
      "metadata": {
        "id": "cgM89Ptn4Fd2"
      }
    },
    {
      "cell_type": "code",
      "source": [
        "#4. Write a program that checks if a given word is a Python keyword?\n",
        "\n",
        "import keyword\n",
        "\n",
        "# Function to check if a word is a python keyword\n",
        "def is_keywoed(word):\n",
        "    return keyword.iskeyword(word)\n",
        "\n",
        "# Input word to check\n",
        "word = input(\"Enter a word: \")\n",
        "\n",
        "# Check and print result\n",
        "if is_keywoed(word):\n",
        "    print(f\"'{word}' is a python keyword.\")\n",
        "else:\n",
        "    print(\"f'{word}' is not a python keyword.\")"
      ],
      "metadata": {
        "colab": {
          "base_uri": "https://localhost:8080/"
        },
        "id": "KTDL-UCz7nit",
        "outputId": "a6b412e9-c14c-4aae-d638-0debda210667"
      },
      "execution_count": null,
      "outputs": [
        {
          "output_type": "stream",
          "name": "stdout",
          "text": [
            "Enter a word: 32\n",
            "f'{word}' is not a python keyword.\n"
          ]
        }
      ]
    },
    {
      "cell_type": "markdown",
      "source": [
        "#5. What is mutability in Python?\n",
        "#-> Mutability in Python refers to the ability of an object to be changed after it has been created. If an object is mutable, its state or contents can be modified. If an object is immutable, it cannot be changed once it is created.\n",
        "\n",
        "Mutable objects in Python include:\n",
        "\n",
        "Lists\n",
        "\n",
        "Dictionaries\n",
        "\n",
        "Sets\n",
        "\n",
        "Immutable objects in Python include:\n",
        "\n",
        "Strings\n",
        "\n",
        "Tuples\n",
        "\n",
        "Integers\n",
        "\n",
        "Floats"
      ],
      "metadata": {
        "id": "xteK5bD3CbpS"
      }
    },
    {
      "cell_type": "code",
      "source": [
        "#5. Create a list and tuple in Python, and demonstrate\n",
        "# how attempting to change an element works differently for each?\n",
        "\n",
        "\n",
        "\n",
        "#Creating a list\n",
        "my_list = [-1, -2, -3, -4, -5]\n",
        "\n",
        "# Creating a tuple\n",
        "my_tuple = (-1, -2, -3, -4, -20)\n",
        "\n",
        "# Modifying an element in the list\n",
        "my_list[4] = 10\n",
        "print(\"Modified list:\", my_list)\n",
        "\n",
        "# Attempting to modify an element in the tuple\n",
        "try:\n",
        "    my_tuple[2] = 10\n",
        "except TypeError as e:\n",
        "    print(\"Error:\", e)"
      ],
      "metadata": {
        "colab": {
          "base_uri": "https://localhost:8080/"
        },
        "id": "8PWznZTuB4BF",
        "outputId": "ba145712-9bf7-4415-bf1b-ac505dd4332e"
      },
      "execution_count": null,
      "outputs": [
        {
          "output_type": "stream",
          "name": "stdout",
          "text": [
            "Modified list: [-1, -2, -3, -4, 10]\n",
            "Error: 'tuple' object does not support item assignment\n"
          ]
        }
      ]
    },
    {
      "cell_type": "markdown",
      "source": [
        "#6. Why are lists mutable, but tuples are immutable?\n",
        "#->Lists are mutable, allowing changes after creation, while tuples are immutable, meaning they cannot be changed once created. This design choice provides flexibility for lists and stability for tuples.\n"
      ],
      "metadata": {
        "id": "p7k1FHxrtc_L"
      }
    },
    {
      "cell_type": "code",
      "source": [
        "#6. Write a function to demonstrate the behavior of mutable and immutable arguments?\n",
        "\n",
        "def modify_elements(mutable_list, immutable_tuple):\n",
        "    # Modify the mutable list\n",
        "    mutable_list[0] = 'Aditya'\n",
        "\n",
        "    # Attempt to modify the immutable tuple (will raise an error)\n",
        "    try:\n",
        "        immutable_tuple[0] = 'Aditya'\n",
        "    except TypeError as e:\n",
        "        print(\"Error:\", e)\n",
        "\n",
        "# Create a list (mutable) and a tuple (immutable)\n",
        "my_list = [1, 4, 9]\n",
        "my_tuple = (1, 4, 9)\n",
        "\n",
        "print(\"Before modification:\")\n",
        "print(\"List:\", my_list)\n",
        "print(\"Tuple:\", my_tuple)\n",
        "\n",
        "# Call the function\n",
        "modify_elements(my_list, my_tuple)\n",
        "\n",
        "print(\"After modification:\")\n",
        "print(\"List:\", my_list)\n",
        "print(\"Tuple:\", my_tuple)\n"
      ],
      "metadata": {
        "colab": {
          "base_uri": "https://localhost:8080/"
        },
        "id": "qy5mDbzguV6u",
        "outputId": "aece6f49-4b88-4ccd-f4b2-0196ea047aa8"
      },
      "execution_count": null,
      "outputs": [
        {
          "output_type": "stream",
          "name": "stdout",
          "text": [
            "Before modification:\n",
            "List: [1, 4, 9]\n",
            "Tuple: (1, 4, 9)\n",
            "Error: 'tuple' object does not support item assignment\n",
            "After modification:\n",
            "List: ['Aditya', 4, 9]\n",
            "Tuple: (1, 4, 9)\n"
          ]
        }
      ]
    },
    {
      "cell_type": "markdown",
      "source": [
        "#7. What is the difference between “==” and “is” operators in Python?\n",
        "# ->\n",
        "\" For ==\n",
        " (Equality Operator)\n",
        " : This operator checks if the values of two objects are equal. It compares the contents of the objects to determine if they are the same.\"\n",
        "\n",
        "\n"
      ],
      "metadata": {
        "id": "tK3NHXQVytz7"
      }
    },
    {
      "cell_type": "code",
      "source": [
        "a = [2, 4, 6]\n",
        "b = [2, 4, 6]\n",
        "print(a == b)\n"
      ],
      "metadata": {
        "colab": {
          "base_uri": "https://localhost:8080/"
        },
        "id": "xL2qFiHuArqe",
        "outputId": "c29e2c03-ab03-479b-9582-3deab0a003f5"
      },
      "execution_count": null,
      "outputs": [
        {
          "output_type": "stream",
          "name": "stdout",
          "text": [
            "True\n"
          ]
        }
      ]
    },
    {
      "cell_type": "markdown",
      "source": [
        "\"For \"is\"\n",
        "(Identity Operator):\n",
        " This operator checks if two objects refer to the same memory location. It compares the identities of the objects to determine if they are the same object.\"\n",
        "\n"
      ],
      "metadata": {
        "id": "AvBEnbnPA1CQ"
      }
    },
    {
      "cell_type": "code",
      "source": [
        "a = [1, 2, 3]\n",
        "b = [1, 2, 3]\n",
        "print(a is b)"
      ],
      "metadata": {
        "colab": {
          "base_uri": "https://localhost:8080/"
        },
        "id": "RxAdh7BgBNhV",
        "outputId": "52cca614-22bc-4b32-860b-df7dc6eb441e"
      },
      "execution_count": null,
      "outputs": [
        {
          "output_type": "stream",
          "name": "stdout",
          "text": [
            "False\n"
          ]
        }
      ]
    },
    {
      "cell_type": "code",
      "source": [
        "#7. Write a function to demonstrate the behavior of mutable and immutable argument?\n",
        "\n",
        "def demonstrate_mutability(mutable_list, immutable_tuple):\n",
        "    # Modify the mutable list\n",
        "    mutable_list[1] = 'adi'\n",
        "\n",
        "    # Attempt to modify the immutable tuple (will raise an error)\n",
        "    try:\n",
        "        immutable_tuple[1] = 'adi'\n",
        "    except TypeError as e:\n",
        "        print(\"Error:\", e)\n",
        "\n",
        "# Create a list (mutable) and a tuple (immutable)\n",
        "my_list = [1, 2, 3]\n",
        "my_tuple = (1, 2, 3)\n",
        "\n",
        "print(\"Before modification:\")\n",
        "print(\"List:\", my_list)\n",
        "print(\"Tuple:\", my_tuple)\n",
        "\n",
        "# Call the function\n",
        "demonstrate_mutability(my_list, my_tuple)\n",
        "\n",
        "print(\"After modification:\")\n",
        "print(\"List:\", my_list)\n",
        "print(\"Tuple:\", my_tuple)\n"
      ],
      "metadata": {
        "colab": {
          "base_uri": "https://localhost:8080/"
        },
        "id": "oi9sEdCf-fwo",
        "outputId": "054b93fb-6c25-466e-ee86-afd903367eab"
      },
      "execution_count": null,
      "outputs": [
        {
          "output_type": "stream",
          "name": "stdout",
          "text": [
            "Before modification:\n",
            "List: [1, 2, 3]\n",
            "Tuple: (1, 2, 3)\n",
            "Error: 'tuple' object does not support item assignment\n",
            "After modification:\n",
            "List: [1, 'adi', 3]\n",
            "Tuple: (1, 2, 3)\n"
          ]
        }
      ]
    },
    {
      "cell_type": "markdown",
      "source": [
        "#8. What are logical operators in python?\n",
        "#->Logical operators in python are used to combine conditional statements.They include:\n",
        "\"1. and :Returns True if both statements are true.\n"
      ],
      "metadata": {
        "id": "6J_sJnfY_hU5"
      }
    },
    {
      "cell_type": "code",
      "source": [
        "x = 5\n",
        "y = 10\n",
        "print(x > 3 and y < 15)"
      ],
      "metadata": {
        "colab": {
          "base_uri": "https://localhost:8080/"
        },
        "id": "WVpVUSxAE_wb",
        "outputId": "01253d55-0fe8-4f32-be39-02ba11e13403"
      },
      "execution_count": null,
      "outputs": [
        {
          "output_type": "stream",
          "name": "stdout",
          "text": [
            "True\n"
          ]
        }
      ]
    },
    {
      "cell_type": "markdown",
      "source": [
        "2. or :Return True if at least one of the statements is true."
      ],
      "metadata": {
        "id": "dqTkaPZGFUcE"
      }
    },
    {
      "cell_type": "code",
      "source": [
        "x = 5\n",
        "print(not(x > 3))"
      ],
      "metadata": {
        "colab": {
          "base_uri": "https://localhost:8080/"
        },
        "id": "FPodD11wGHDX",
        "outputId": "f9dd423b-295c-4b56-d0db-897b0a2f671a"
      },
      "execution_count": null,
      "outputs": [
        {
          "output_type": "stream",
          "name": "stdout",
          "text": [
            "False\n"
          ]
        }
      ]
    },
    {
      "cell_type": "code",
      "source": [
        "#8. Write a program to demonstrate the use of logical operator?\n",
        "\n",
        "# Function to demonstrate logical operators\n",
        "def logical_operators_demo(a, b):\n",
        "    # Using 'and' operator\n",
        "    and_result = a > 0 and b > 0\n",
        "    print(f\"{a} > 0 and {b} > 0: {and_result}\")\n",
        "\n",
        "    # Using 'or' operator\n",
        "    or_result = a > 0 or b > 0\n",
        "    print(f\"{a} > 0 or {b} > 0: {or_result}\")\n",
        "\n",
        "    # Using 'not' operator\n",
        "    not_result = not (a > 0)\n",
        "    print(f\"not ({a} > 0): {not_result}\")\n",
        "\n",
        "# Test the function with example values\n",
        "logical_operators_demo(-5, 3)\n",
        "\n"
      ],
      "metadata": {
        "colab": {
          "base_uri": "https://localhost:8080/"
        },
        "id": "9Fd7zo45GkoL",
        "outputId": "b9f8b9b6-bb0e-4851-c6c0-6b938550c660"
      },
      "execution_count": null,
      "outputs": [
        {
          "output_type": "stream",
          "name": "stdout",
          "text": [
            "-5 > 0 and 3 > 0: False\n",
            "-5 > 0 or 3 > 0: True\n",
            "not (-5 > 0): True\n"
          ]
        }
      ]
    },
    {
      "cell_type": "markdown",
      "source": [
        "#9. What is type casting in python?\n",
        "\n",
        "#->1. Implicit Type Casting: Python automatically converts one data type to another without explicit instruction from the programmer. For example, when you add an integer and a float, Python implicitly converts the integer to a float."
      ],
      "metadata": {
        "id": "F1vvtXGvKf9x"
      }
    },
    {
      "cell_type": "code",
      "source": [
        "x = 6\n",
        "y = 2.5\n",
        "result = (x+y)\n",
        "print(result)\n"
      ],
      "metadata": {
        "colab": {
          "base_uri": "https://localhost:8080/"
        },
        "id": "WU4XGiT8Lh_Y",
        "outputId": "a82cd92b-648a-4bf8-bb0c-adbfb6265020"
      },
      "execution_count": null,
      "outputs": [
        {
          "output_type": "stream",
          "name": "stdout",
          "text": [
            "8.5\n"
          ]
        }
      ]
    },
    {
      "cell_type": "markdown",
      "source": [
        "2.Explicit Type Casting: The programmer manually converts one data type to another using built-in functions like int(), float(), str(), etc"
      ],
      "metadata": {
        "id": "Iz3k7lqZMKpy"
      }
    },
    {
      "cell_type": "code",
      "source": [
        "x = \"19\"\n",
        "y = int(x)\n",
        "print(y)"
      ],
      "metadata": {
        "colab": {
          "base_uri": "https://localhost:8080/"
        },
        "id": "PIeNHTs6KSJO",
        "outputId": "26e04253-10ef-4d11-e198-fab67a17df99"
      },
      "execution_count": null,
      "outputs": [
        {
          "output_type": "stream",
          "name": "stdout",
          "text": [
            "19\n"
          ]
        }
      ]
    },
    {
      "cell_type": "code",
      "source": [
        "#9.Write a Python program to convert user input from string to integer, float, and boolean types?\n",
        "\n",
        "# Function to convert user input to different types\n",
        "def convert_input(user_input):\n",
        "    # Convert to integer\n",
        "    try:\n",
        "        int_value = int(user_input)\n",
        "    except ValueError:\n",
        "        int_value = None\n",
        "        print(f\"Cannot convert '{user_input}' to an integer.\")\n",
        "\n",
        "    # Convert to float\n",
        "    try:\n",
        "        float_value = float(user_input)\n",
        "    except ValueError:\n",
        "        float_value = None\n",
        "        print(f\"Cannot convert '{user_input}' to a float.\")\n",
        "\n",
        "    # Convert to boolean\n",
        "    bool_value = bool(user_input)\n",
        "\n",
        "    return int_value, float_value, bool_value\n",
        "\n",
        "# Get user input\n",
        "user_input = input(\"Enter a value: \")\n",
        "\n",
        "# Convert the input\n",
        "int_value, float_value, bool_value = convert_input(user_input)\n",
        "\n",
        "# Print the results\n",
        "print(f\"Integer: {int_value}\")\n",
        "print(f\"Float: {float_value}\")\n",
        "print(f\"Boolean: {bool_value}\")\n"
      ],
      "metadata": {
        "id": "xxTw2lt3NmNt",
        "colab": {
          "base_uri": "https://localhost:8080/"
        },
        "outputId": "028739b3-b3e8-49b1-9663-6d188bb901b6"
      },
      "execution_count": null,
      "outputs": [
        {
          "output_type": "stream",
          "name": "stdout",
          "text": [
            "Enter a value: 5\n",
            "Integer: 5\n",
            "Float: 5.0\n",
            "Boolean: True\n"
          ]
        }
      ]
    },
    {
      "cell_type": "markdown",
      "source": [
        "#10. What is the difference between implicit and explicit type casting?\n",
        "\n",
        "# ->1.      Implicit Type Casting: Python automatically converts one data type to another without explicit instruction from the programmer. This usually happens when performing operations that involve different data types. For example, when adding an integer and a float, Python implicitly converts the integer to a float.\n",
        "\n"
      ],
      "metadata": {
        "id": "55MtWOAaQ-fs"
      }
    },
    {
      "cell_type": "code",
      "source": [
        "x = 5\n",
        "y = 4.92\n",
        "result = x + y\n",
        "print(result)"
      ],
      "metadata": {
        "id": "v5C-w-AaSJSa",
        "colab": {
          "base_uri": "https://localhost:8080/"
        },
        "outputId": "a4c891fd-5ac9-428c-b452-511364dd639b"
      },
      "execution_count": null,
      "outputs": [
        {
          "metadata": {
            "tags": null
          },
          "name": "stdout",
          "output_type": "stream",
          "text": [
            "9.92\n"
          ]
        }
      ]
    },
    {
      "cell_type": "markdown",
      "source": [
        "#2.     Explicit Type Casting: The programmer manually converts one data type to another using built-in functions like int(), float(), str(), etc. This is done when you need to ensure that a specific type conversion takes place"
      ],
      "metadata": {
        "id": "rSZf1BXhS5Ub"
      }
    },
    {
      "cell_type": "code",
      "source": [
        "x = \"10\"\n",
        "y = int(x)\n",
        "print(y)"
      ],
      "metadata": {
        "id": "cOYiSdbaS4eT",
        "colab": {
          "base_uri": "https://localhost:8080/"
        },
        "outputId": "e3fa7177-b83e-4ce9-c436-a52db3401334"
      },
      "execution_count": null,
      "outputs": [
        {
          "metadata": {
            "tags": null
          },
          "name": "stdout",
          "output_type": "stream",
          "text": [
            "10\n"
          ]
        }
      ]
    },
    {
      "cell_type": "code",
      "source": [
        "#10.  Write code to demonstrate type casting with list elements?\n",
        "\n",
        "# Function to demonstrate type casting with list elements\n",
        "def type_casting_demo(input_list):\n",
        "    # Convert elements to integer\n",
        "    # Check if the element can be converted to an integer before doing so.\n",
        "    int_list = [int(x) for x in input_list if x.isdigit()]\n",
        "    print(\"Integer list:\", int_list)\n",
        "\n",
        "    # Convert elements to float\n",
        "    # Check if the element can be converted to a float before doing so.\n",
        "    float_list = [float(x) for x in input_list if x.replace('.', '', 1).isdigit()]\n",
        "    print(\"Float list:\", float_list)\n",
        "\n",
        "    # Convert elements to boolean\n",
        "    bool_list = [bool(x) for x in input_list]\n",
        "    print(\"Boolean list:\", bool_list)\n",
        "\n",
        "# Example input list (strings)\n",
        "input_list = [\"1\", \"5\", \"6\", \"0\", \"\"]\n",
        "\n",
        "# Call the function\n",
        "type_casting_demo(input_list)"
      ],
      "metadata": {
        "id": "-hQIbv33Uy83",
        "colab": {
          "base_uri": "https://localhost:8080/"
        },
        "outputId": "f0e76dc2-6062-457e-962d-518a3387517a"
      },
      "execution_count": null,
      "outputs": [
        {
          "metadata": {
            "tags": null
          },
          "name": "stdout",
          "output_type": "stream",
          "text": [
            "Integer list: [1, 5, 6, 0]\n",
            "Float list: [1.0, 5.0, 6.0, 0.0]\n",
            "Boolean list: [True, True, True, True, False]\n"
          ]
        }
      ]
    },
    {
      "cell_type": "markdown",
      "source": [
        "#11.  What is the purpose of conditional statements in Python\n",
        "\n",
        "\n",
        "\n",
        "\n",
        "\n",
        "#-> Conditional statements in Python are used to execute different blocks of code based on certain conditions. They allow you to control the flow of your program by making decisions and executing specific code only when certain conditions are met. The primary conditional statements in Python are if, elif, and else"
      ],
      "metadata": {
        "id": "dkesToGpXGNw"
      }
    },
    {
      "cell_type": "code",
      "source": [
        "x = 10\n",
        "\n",
        "if x > 5:\n",
        "    print(\"x is greater than 5\")\n",
        "elif x == 5:\n",
        "    print(\"x is equal to 5\")\n",
        "else:\n",
        "    print(\"x is less than 5\")"
      ],
      "metadata": {
        "id": "OME_2r_sXaDd",
        "colab": {
          "base_uri": "https://localhost:8080/"
        },
        "outputId": "ef49aa67-87d7-4958-9e15-8a82e86ac922"
      },
      "execution_count": null,
      "outputs": [
        {
          "output_type": "stream",
          "name": "stdout",
          "text": [
            "x is greater than 5\n"
          ]
        }
      ]
    },
    {
      "cell_type": "code",
      "source": [
        "#11.  Write a program that checks if a number is positive, negative, or zero?\n",
        "\n",
        "# Function to check if a number is positive, negative, or zero\n",
        "def check_number(num):\n",
        "    if num > 0:\n",
        "        return \"The number is positive.\"\n",
        "    elif num < 0:\n",
        "        return \"The number is negative.\"\n",
        "    else:\n",
        "        return \"The number is zero.\"\n",
        "\n",
        "# Get user input\n",
        "number = float(input(\"Enter a number: \"))\n",
        "\n",
        "result = check_number(number)\n",
        "print(result)\n"
      ],
      "metadata": {
        "id": "UoL1f2GaYteh",
        "colab": {
          "base_uri": "https://localhost:8080/"
        },
        "outputId": "635f6a64-d312-4757-dfed-c9e826c4de2a"
      },
      "execution_count": 8,
      "outputs": [
        {
          "output_type": "stream",
          "name": "stdout",
          "text": [
            "Enter a number: 5\n",
            "The number is positive.\n"
          ]
        }
      ]
    },
    {
      "cell_type": "markdown",
      "source": [
        "#12.  How does the elif statement work?\n",
        "# ->  The elif statement in Python is short for \"else if.\" It allows you to check multiple conditions in a sequence. If the first if condition is not met, the program checks the elif condition. If the elif condition is also not met, it moves on to the next elif or the else statement if there are no more elif statements."
      ],
      "metadata": {
        "id": "d9v22M0qZgH2"
      }
    },
    {
      "cell_type": "code",
      "source": [
        "x = 10\n",
        "\n",
        "if x > 15:\n",
        "    print(\"x is greater than 15\")\n",
        "elif x > 5:\n",
        "    x = 10\n",
        "\n",
        "    if x > 15:\n",
        "        print(\"x is greater than 15\")\n",
        "    elif x > 5:\n",
        "        print(\"x is greater than 5 but less than or equal to 15\")\n",
        "    else:\n",
        "        print(\"x is 5 or less\")"
      ],
      "metadata": {
        "id": "UdwtLPEGaTcA"
      },
      "execution_count": 7,
      "outputs": []
    },
    {
      "cell_type": "code",
      "source": [
        "#12.  Write a for loop to print numbers from 1 to 10?\n",
        "\n",
        "for i in range(1,11):\n",
        "    print(i)"
      ],
      "metadata": {
        "id": "LZ6ky9C1bwl1",
        "colab": {
          "base_uri": "https://localhost:8080/"
        },
        "outputId": "80a82286-2b5d-49af-a07d-cb04fefd2408"
      },
      "execution_count": 6,
      "outputs": [
        {
          "output_type": "stream",
          "name": "stdout",
          "text": [
            "1\n",
            "2\n",
            "3\n",
            "4\n",
            "5\n",
            "6\n",
            "7\n",
            "8\n",
            "9\n",
            "10\n"
          ]
        }
      ]
    },
    {
      "cell_type": "markdown",
      "source": [
        "#13. What is the difference between for and while loops?\n",
        "\n",
        "#-> The main difference between for and while loops in Python lies in their usage and structure:\n",
        "\n",
        "\"For Loop:\n",
        "\n",
        "Iterates over a sequence (like a list or range).\n",
        "\n",
        "Used when the number of iterations is known.\"\n",
        "\n"
      ],
      "metadata": {
        "id": "9jhmINC5ccsL"
      }
    },
    {
      "cell_type": "code",
      "source": [
        "for i in range(1, 11):\n",
        "    print(i)"
      ],
      "metadata": {
        "id": "yDNVwFnZdzu8"
      },
      "execution_count": null,
      "outputs": []
    },
    {
      "cell_type": "markdown",
      "source": [
        "While Loop:\n",
        "\n",
        "Repeats as long as a condition is true.\n",
        "\n",
        "Used when the number of iterations is unknown.\n"
      ],
      "metadata": {
        "id": "2Px1RJb1eOoA"
      }
    },
    {
      "cell_type": "code",
      "source": [
        "i = 1\n",
        "while i <= 10:\n",
        "    print(i)\n",
        "    i += 1"
      ],
      "metadata": {
        "id": "bIn2yRA2eQrk"
      },
      "execution_count": 5,
      "outputs": []
    },
    {
      "cell_type": "code",
      "source": [
        "#13.  Write a for loop to print numbers from 1 to 10?\n",
        "\n",
        "\n",
        "\n",
        "for i in range(1, 11):\n",
        "    print(i)"
      ],
      "metadata": {
        "id": "BOwZT1ibeni5",
        "colab": {
          "base_uri": "https://localhost:8080/"
        },
        "outputId": "fb409572-49fa-4335-b0ed-4ac39c193e44"
      },
      "execution_count": 3,
      "outputs": [
        {
          "output_type": "stream",
          "name": "stdout",
          "text": [
            "1\n",
            "2\n",
            "3\n",
            "4\n",
            "5\n",
            "6\n",
            "7\n",
            "8\n",
            "9\n",
            "10\n"
          ]
        }
      ]
    },
    {
      "cell_type": "markdown",
      "source": [
        "#14.  Describe a scenario where a while loop is more suitable than a for loop.?\n",
        "\n",
        "#-> A while loop is more suitable when you need to repeat an action until a specific condition is met, and you don't know the number of iterations in advance. For example, repeatedly asking a user for input until they provide a valid response.\n",
        "\n"
      ],
      "metadata": {
        "id": "GtsMgRq3fo8o"
      }
    },
    {
      "cell_type": "code",
      "source": [
        "#14.  Write a program to reverse a string using a while loop?\n",
        "\n",
        "# Function to reverse a string using a while loop\n",
        "def reverse_string(input_string):\n",
        "    reversed_string = \"\"\n",
        "    index = len(input_string) - 1\n",
        "\n",
        "    while index >= 0:\n",
        "        reversed_string += input_string[index]\n",
        "        index -= 1\n",
        "\n",
        "    return reversed_string\n",
        "\n",
        "# Get user input\n",
        "user_input = input(\"Enter a string: \")\n",
        "\n",
        "# Reverse the string and print the result\n",
        "reversed_result = reverse_string(user_input)\n",
        "print(\"Reversed string:\", reversed_result)\n"
      ],
      "metadata": {
        "id": "FVvHwPnde_Kc",
        "colab": {
          "base_uri": "https://localhost:8080/"
        },
        "outputId": "32679e46-d23e-49fd-c3ef-931016f53f4f"
      },
      "execution_count": 2,
      "outputs": [
        {
          "output_type": "stream",
          "name": "stdout",
          "text": [
            "Enter a string: 23\n",
            "Reversed string: 32\n"
          ]
        }
      ]
    },
    {
      "cell_type": "code",
      "source": [
        "#15.  Write a Python program to calculate the factorial of a number provided by the user using a while loop?\n",
        "\n",
        "\n",
        "# Function to calculate the factorial of a number\n",
        "def factorial(num):\n",
        "    result = 1\n",
        "    while num > 0:\n",
        "        result *= num\n",
        "        num -= 1\n",
        "    return result\n",
        "\n",
        "# Get user input\n",
        "number = int(input(\"Enter a number: \"))\n",
        "\n",
        "# Calculate and print the factorial\n",
        "factorial_result = factorial(number)\n",
        "print(f\"The factorial of {number} is: {factorial_result}\")\n"
      ],
      "metadata": {
        "id": "anVUl9t7glNv",
        "colab": {
          "base_uri": "https://localhost:8080/"
        },
        "outputId": "3cb0e265-f59b-4123-f6b6-6ad229fabc70"
      },
      "execution_count": 1,
      "outputs": [
        {
          "output_type": "stream",
          "name": "stdout",
          "text": [
            "Enter a number: 19\n",
            "The factorial of 19 is: 121645100408832000\n"
          ]
        }
      ]
    },
    {
      "cell_type": "code",
      "source": [],
      "metadata": {
        "id": "NWhNR_WtlA9O"
      },
      "execution_count": null,
      "outputs": []
    }
  ]
}